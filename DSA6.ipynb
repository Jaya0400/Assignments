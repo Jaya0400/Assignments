{
 "cells": [
  {
   "cell_type": "code",
   "execution_count": 1,
   "metadata": {},
   "outputs": [
    {
     "data": {
      "text/plain": [
       "'Python has four basic inbuilt data structures namely Lists, Dictionary, Tuple and Set. \\nLists: Lists are used to store multiple items in a single variable.\\nThey are accessed just like strings (e.g. slicing and concatenation) so they are simple to use and they’re variable length, \\nList is mutable.\\n\\nDictionary:dictionary is similar to hash or maps in other languages. It consists of key value pairs. The value can be accessed by unique key in the dictionary. \\nKeys are unique & immutable objects.\\n\\nTuple : Python tuples work exactly like Python lists except they are immutable, i.e. they can’t be \\nchanged in place. They are normally written inside parentheses to distinguish them from lists (which use square brackets), \\nbut as you’ll see, parentheses aren’t always necessary. Since tuples are immutable, their length is fixed. \\n\\nSets: Unordered collection of unique objects. \\nSet operations such as union (|) , intersection(&), difference(-) can be applied on a set.\\nFrozen Sets are immutable i.e once created further data can’t be added to them\\n{} are used to represent a set.Objects placed inside these brackets would be treated as a set.\\n'"
      ]
     },
     "execution_count": 1,
     "metadata": {},
     "output_type": "execute_result"
    }
   ],
   "source": [
    "#Describe Python's built-in data structure?\n",
    "\"\"\"Python has four basic inbuilt data structures namely Lists, Dictionary, Tuple and Set. \n",
    "Lists: Lists are used to store multiple items in a single variable.\n",
    "They are accessed just like strings (e.g. slicing and concatenation) so they are simple to use and they’re variable length, \n",
    "List is mutable.\n",
    "\n",
    "Dictionary:dictionary is similar to hash or maps in other languages. It consists of key value pairs. The value can be accessed by unique key in the dictionary. \n",
    "Keys are unique & immutable objects.\n",
    "\n",
    "Tuple : Python tuples work exactly like Python lists except they are immutable, i.e. they can’t be \n",
    "changed in place. They are normally written inside parentheses to distinguish them from lists (which use square brackets), \n",
    "but as you’ll see, parentheses aren’t always necessary. Since tuples are immutable, their length is fixed. \n",
    "\n",
    "Sets: Unordered collection of unique objects. \n",
    "Set operations such as union (|) , intersection(&), difference(-) can be applied on a set.\n",
    "Frozen Sets are immutable i.e once created further data can’t be added to them\n",
    "{} are used to represent a set.Objects placed inside these brackets would be treated as a set.\n",
    "\"\"\""
   ]
  },
  {
   "cell_type": "code",
   "execution_count": 2,
   "metadata": {},
   "outputs": [
    {
     "data": {
      "text/plain": [
       "'A data structure allows data to be added, removed, stored and maintained in a structured manner. Python supports two types of data structures:\\nNon-primitive data types: Python has list, set, and dictionary as its non-primitive data types which can also be considered its in-built data structures.\\nUser-defined data structures: Data structures that aren’t supported by python but can be programmed to reflect the same functionality using concepts supported \\nby python are user-defined data structures.'"
      ]
     },
     "execution_count": 2,
     "metadata": {},
     "output_type": "execute_result"
    }
   ],
   "source": [
    "#Describe the Python user data structure?\n",
    "\"\"\"A data structure allows data to be added, removed, stored and maintained in a structured manner. Python supports two types of data structures:\n",
    "Non-primitive data types: Python has list, set, and dictionary as its non-primitive data types which can also be considered its in-built data structures.\n",
    "User-defined data structures: Data structures that aren’t supported by python but can be programmed to reflect the same functionality using concepts supported \n",
    "by python are user-defined data structures.\"\"\""
   ]
  },
  {
   "cell_type": "code",
   "execution_count": 3,
   "metadata": {},
   "outputs": [
    {
     "data": {
      "text/plain": [
       "'Algorithm is a step-by-step set of instructions designed to perform a specific task.\\n-Obtain detailed information on the problem.\\n-Analyze the problem.\\n-Think of a problem solving approach.\\n-Review the problem solving approach and try to think of a better Alternative.\\n-Develop a basic structure of the Algorithm.\\n-Optimize, Improve and refine'"
      ]
     },
     "execution_count": 3,
     "metadata": {},
     "output_type": "execute_result"
    }
   ],
   "source": [
    "#Describe the stages involved in writing an algorithm?\n",
    "\"\"\"Algorithm is a step-by-step set of instructions designed to perform a specific task.\n",
    "-Obtain detailed information on the problem.\n",
    "-Analyze the problem.\n",
    "-Think of a problem solving approach.\n",
    "-Review the problem solving approach and try to think of a better Alternative.\n",
    "-Develop a basic structure of the Algorithm.\n",
    "-Optimize, Improve and refine\"\"\""
   ]
  },
  {
   "cell_type": "code",
   "execution_count": 4,
   "metadata": {},
   "outputs": [
    {
     "data": {
      "text/plain": [
       "'Unambiguous − Algorithm should be clear and unambiguous. Each of its steps (or phases), and their inputs/outputs should be clear and must lead to only one meaning.\\nInput − An algorithm should have 0 or more well-defined inputs.\\nOutput − An algorithm should have 1 or more well-defined outputs, and should match the desired output.\\nFiniteness − Algorithms must terminate after a finite number of steps.\\nFeasibility − Should be feasible with the available resources.\\nIndependent − An algorithm should have step-by-step directions, which should be independent of any programming code.'"
      ]
     },
     "execution_count": 4,
     "metadata": {},
     "output_type": "execute_result"
    }
   ],
   "source": [
    "#Outline the components of a good algorithm?\n",
    "\"\"\"Unambiguous − Algorithm should be clear and unambiguous. Each of its steps (or phases), and their inputs/outputs should be clear and must lead to only one meaning.\n",
    "Input − An algorithm should have 0 or more well-defined inputs.\n",
    "Output − An algorithm should have 1 or more well-defined outputs, and should match the desired output.\n",
    "Finiteness − Algorithms must terminate after a finite number of steps.\n",
    "Feasibility − Should be feasible with the available resources.\n",
    "Independent − An algorithm should have step-by-step directions, which should be independent of any programming code.\"\"\""
   ]
  },
  {
   "cell_type": "code",
   "execution_count": 5,
   "metadata": {},
   "outputs": [
    {
     "data": {
      "text/plain": [
       "'Traversal is a process to visit all the nodes of a tree and may print their values too. \\nBecause, all nodes are connected via edges (links) we always start from the root (head) node. \\nThat is, we cannot randomly access a node in a tree. There are three ways which we use to traverse a tree −\\n\\n1) In-order Traversal-In this traversal method, the left subtree is visited first, then the root and later the right sub-tree. \\nWe should always remember that every node may represent a subtree itself.If a binary tree is traversed in-order, \\nthe output will produce sorted key values in an ascending order.\\n2)Pre-order Traversal-In this traversal method, the root node is visited first, then the left subtree and finally the right subtree.\\n3)Post-order Traversal-In this traversal method, the root node is visited last, hence the name. First we traverse the left subtree, then the right subtree and finally the root node.\\n\\n'"
      ]
     },
     "execution_count": 5,
     "metadata": {},
     "output_type": "execute_result"
    }
   ],
   "source": [
    "#Describe the Tree traversal method?\n",
    "\"\"\"Traversal is a process to visit all the nodes of a tree and may print their values too. \n",
    "Because, all nodes are connected via edges (links) we always start from the root (head) node. \n",
    "That is, we cannot randomly access a node in a tree. There are three ways which we use to traverse a tree −\n",
    "\n",
    "1) In-order Traversal-In this traversal method, the left subtree is visited first, then the root and later the right sub-tree. \n",
    "We should always remember that every node may represent a subtree itself.If a binary tree is traversed in-order, \n",
    "the output will produce sorted key values in an ascending order.\n",
    "2)Pre-order Traversal-In this traversal method, the root node is visited first, then the left subtree and finally the right subtree.\n",
    "3)Post-order Traversal-In this traversal method, the root node is visited last, hence the name. First we traverse the left subtree, then the right subtree and finally the root node.\n",
    "\n",
    "\"\"\""
   ]
  },
  {
   "cell_type": "code",
   "execution_count": 6,
   "metadata": {},
   "outputs": [
    {
     "data": {
      "text/plain": [
       "'For Inorder, you traverse from the left subtree to the root then to the right subtree.\\nFor Post order, you traverse from the left subtree to the right subtree then to the root.\\n'"
      ]
     },
     "execution_count": 6,
     "metadata": {},
     "output_type": "execute_result"
    }
   ],
   "source": [
    "#Explain the difference between inorder and postorder tree traversal?\n",
    "\"\"\"For Inorder, you traverse from the left subtree to the root then to the right subtree.\n",
    "For Post order, you traverse from the left subtree to the right subtree then to the root.\n",
    "\"\"\""
   ]
  },
  {
   "cell_type": "code",
   "execution_count": null,
   "metadata": {},
   "outputs": [],
   "source": []
  }
 ],
 "metadata": {
  "kernelspec": {
   "display_name": "Python 3",
   "language": "python",
   "name": "python3"
  },
  "language_info": {
   "codemirror_mode": {
    "name": "ipython",
    "version": 3
   },
   "file_extension": ".py",
   "mimetype": "text/x-python",
   "name": "python",
   "nbconvert_exporter": "python",
   "pygments_lexer": "ipython3",
   "version": "3.8.5"
  }
 },
 "nbformat": 4,
 "nbformat_minor": 4
}
