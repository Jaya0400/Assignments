{
 "cells": [
  {
   "cell_type": "code",
   "execution_count": 4,
   "metadata": {},
   "outputs": [],
   "source": [
    "#ENCRYPTION\n",
    "from cryptography.fernet import Fernet\n",
    "#generate the key\n",
    "key=Fernet.generate_key()\n",
    "#string the key in file\n",
    "with open('file.key','wb') as filekey:\n",
    "    filekey.write(key)\n",
    "#opening the key in readmode\n",
    "with open('file.key','rb') as filekey:\n",
    "    filekey.read()\n",
    "#use generated key\n",
    "fernet=Fernet(key)\n",
    "#opening original file for encryption\n",
    "with open('Pexels Videos 2833.mp4','rb') as file:\n",
    "    original=file.read()\n",
    "#encrypting the file\n",
    "encrypted=fernet.encrypt(original)\n",
    "#writing the encrypted the data\n",
    "with open('Pexels Videos 2833.mp4','wb') as encrypted_file:\n",
    "    encrypted_file.write(encrypted)"
   ]
  },
  {
   "cell_type": "code",
   "execution_count": 5,
   "metadata": {},
   "outputs": [],
   "source": [
    "#DECRYPTION\n",
    "from cryptography.fernet import Fernet\n",
    "key=\"3uuP4sxreR-C4woF7YYfUyx_4N3DxMZvBG5JwgbYOLg=\"\n",
    "#opening encrypted file\n",
    "with open('Pexels Videos 2833.mp4','rb') as enc_file:\n",
    "    encrypted=enc_file.read()\n",
    "#decrypting the file\n",
    "decrypted=fernet.decrypt(encrypted)\n",
    "\n",
    "#writing the decrypted data\n",
    "with open('Pexels Videos 2833.mp4','wb') as dec_file:\n",
    "    dec_file.write(decrypted)\n",
    "    "
   ]
  },
  {
   "cell_type": "code",
   "execution_count": null,
   "metadata": {},
   "outputs": [],
   "source": []
  }
 ],
 "metadata": {
  "kernelspec": {
   "display_name": "Python 3",
   "language": "python",
   "name": "python3"
  },
  "language_info": {
   "codemirror_mode": {
    "name": "ipython",
    "version": 3
   },
   "file_extension": ".py",
   "mimetype": "text/x-python",
   "name": "python",
   "nbconvert_exporter": "python",
   "pygments_lexer": "ipython3",
   "version": "3.8.5"
  }
 },
 "nbformat": 4,
 "nbformat_minor": 4
}
