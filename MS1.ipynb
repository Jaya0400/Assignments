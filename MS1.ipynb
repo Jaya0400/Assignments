{
 "cells": [
  {
   "cell_type": "code",
   "execution_count": 1,
   "metadata": {},
   "outputs": [
    {
     "data": {
      "text/plain": [
       "\"Prop Drilling is type of the process which help you pass the data from\\none part of React Component Tree to another with the help of others\\nthey don't require any idea only help in passing it.\\nHow to avoid ?\\n1)Redux:you can create data store and connect to any component of the store\\nand volia doesn't matter the position of component in tree but it has access\\nto store\\n2)Context:this helps you to create the global data store and any component\\nin the context has access to data store.\\n\""
      ]
     },
     "execution_count": 1,
     "metadata": {},
     "output_type": "execute_result"
    }
   ],
   "source": [
    "#What exactly do you mean when you say \"prop drilling,\" and how do you\n",
    "#avoid it?\n",
    "\"\"\"Prop Drilling is type of the process which help you pass the data from\n",
    "one part of React Component Tree to another with the help of others\n",
    "they don't require any idea only help in passing it.\n",
    "How to avoid ?\n",
    "1)Redux:you can create data store and connect to any component of the store\n",
    "and volia doesn't matter the position of component in tree but it has access\n",
    "to store\n",
    "2)Context:this helps you to create the global data store and any component\n",
    "in the context has access to data store.\n",
    "\"\"\""
   ]
  },
  {
   "cell_type": "code",
   "execution_count": 2,
   "metadata": {},
   "outputs": [
    {
     "data": {
      "text/plain": [
       "'Props validation is used to avoid the errors and problems in the code.\\nIt uses special property PropTypes that help you fetch the bugs by validating data types of values passed\\nthrough props\\nSome Examples:\\n-PropTypes.any:props can be of any data type\\n-PropTypes.array:props should be an array\\n-PropTypes.bool:props should be a boolean\\n-PropTypes.func:props should be a function\\n-PropTypes.number:props should be a number\\n-PropTypes.object:props should be an object\\n-PropTypes.string: props should be a string\\n'"
      ]
     },
     "execution_count": 2,
     "metadata": {},
     "output_type": "execute_result"
    }
   ],
   "source": [
    "#In React JS, how do you add validation to props?\n",
    "\"\"\"Props validation is used to avoid the errors and problems in the code.\n",
    "It uses special property PropTypes that help you fetch the bugs by validating data types of values passed\n",
    "through props\n",
    "Some Examples:\n",
    "-PropTypes.any:props can be of any data type\n",
    "-PropTypes.array:props should be an array\n",
    "-PropTypes.bool:props should be a boolean\n",
    "-PropTypes.func:props should be a function\n",
    "-PropTypes.number:props should be a number\n",
    "-PropTypes.object:props should be an object\n",
    "-PropTypes.string: props should be a string\n",
    "\"\"\""
   ]
  },
  {
   "cell_type": "code",
   "execution_count": 3,
   "metadata": {},
   "outputs": [
    {
     "data": {
      "text/plain": [
       "'Classes are used in object-oriented programming (OOP) to describe one or more objects. It serves as a template for creating or instantiating specific objects within a program.\\nA class in Node.js works similarly and is used to create objects. \\nIt is possible to write a class in Node.js using JavaScript. JavaScript has OOP support when we use prototype.\\nclassName.prototype.methodName = function() {\\n}\\nThe next method is using ES6\\n'"
      ]
     },
     "execution_count": 3,
     "metadata": {},
     "output_type": "execute_result"
    }
   ],
   "source": [
    "#Is it possible to use classes in NodeJS?\n",
    "\"\"\"Classes are used in object-oriented programming (OOP) to describe one or more objects. It serves as a template for creating or instantiating specific objects within a program.\n",
    "A class in Node.js works similarly and is used to create objects. \n",
    "It is possible to write a class in Node.js using JavaScript. JavaScript has OOP support when we use prototype.\n",
    "className.prototype.methodName = function() {\n",
    "}\n",
    "The next method is using ES6\n",
    "\"\"\""
   ]
  },
  {
   "cell_type": "code",
   "execution_count": 4,
   "metadata": {},
   "outputs": [
    {
     "data": {
      "text/plain": [
       "'ensures this.props is set even before the constructor exits.\\nReact would later assign this.props after your constructor has run. But this.props would still be undefined between \\nthe super call and the end of your constructor.\\nIt can be even more difficult to find if this happens in some method that’s called from the constructor. \\nAnd that’s why we need super(props)\\n'"
      ]
     },
     "execution_count": 4,
     "metadata": {},
     "output_type": "execute_result"
    }
   ],
   "source": [
    "#What is the purpose of super(props)?\n",
    "\"\"\"ensures this.props is set even before the constructor exits.\n",
    "React would later assign this.props after your constructor has run. But this.props would still be undefined between \n",
    "the super call and the end of your constructor.\n",
    "It can be even more difficult to find if this happens in some method that’s called from the constructor. \n",
    "And that’s why we need super(props)\n",
    "\"\"\""
   ]
  },
  {
   "cell_type": "code",
   "execution_count": 5,
   "metadata": {},
   "outputs": [
    {
     "data": {
      "text/plain": [
       "\"\\n1) If it would have been kept together it'll not allow us to perform API in-process testing without network calls\\n2)Testing execution is faster\\n3)Covers the wider range of metrics code.\\n4)Code is more cleaner\\n\""
      ]
     },
     "execution_count": 5,
     "metadata": {},
     "output_type": "execute_result"
    }
   ],
   "source": [
    "#Why are the Express app and server separated?\n",
    "\"\"\"\n",
    "1) If it would have been kept together it'll not allow us to perform API in-process testing without network calls\n",
    "2)Testing execution is faster\n",
    "3)Covers the wider range of metrics code.\n",
    "4)Code is more cleaner\n",
    "\"\"\""
   ]
  },
  {
   "cell_type": "code",
   "execution_count": null,
   "metadata": {},
   "outputs": [],
   "source": []
  }
 ],
 "metadata": {
  "kernelspec": {
   "display_name": "Python 3",
   "language": "python",
   "name": "python3"
  },
  "language_info": {
   "codemirror_mode": {
    "name": "ipython",
    "version": 3
   },
   "file_extension": ".py",
   "mimetype": "text/x-python",
   "name": "python",
   "nbconvert_exporter": "python",
   "pygments_lexer": "ipython3",
   "version": "3.8.5"
  }
 },
 "nbformat": 4,
 "nbformat_minor": 4
}
