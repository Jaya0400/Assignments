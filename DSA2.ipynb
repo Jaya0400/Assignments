{
 "cells": [
  {
   "cell_type": "code",
   "execution_count": 1,
   "metadata": {},
   "outputs": [
    {
     "data": {
      "text/plain": [
       "'Linked List is a sequence of links which contains items. Each link contains a connection to another link.\\nLink − Each link of a linked list can store a data called an element.\\nNext − Each link of a linked list contains a link to the next link called Next.\\nLinkedList − A Linked List contains the connection link to the first link called First.\\n'"
      ]
     },
     "execution_count": 1,
     "metadata": {},
     "output_type": "execute_result"
    }
   ],
   "source": [
    "#What is a linked list?\n",
    "\"\"\"Linked List is a sequence of links which contains items. Each link contains a connection to another link.\n",
    "Link − Each link of a linked list can store a data called an element.\n",
    "Next − Each link of a linked list contains a link to the next link called Next.\n",
    "LinkedList − A Linked List contains the connection link to the first link called First.\n",
    "\"\"\""
   ]
  },
  {
   "cell_type": "code",
   "execution_count": 2,
   "metadata": {},
   "outputs": [
    {
     "data": {
      "text/plain": [
       "'Simple Linked List − Item navigation is forward only.\\nDoubly Linked List − Items can be navigated forward and backward.\\nCircular Linked List − Last item contains link of the first element as next and the first element has a link to the \\nlast element as previous.'"
      ]
     },
     "execution_count": 2,
     "metadata": {},
     "output_type": "execute_result"
    }
   ],
   "source": [
    "#What are the different forms of linked lists?\n",
    "\"\"\"Simple Linked List − Item navigation is forward only.\n",
    "Doubly Linked List − Items can be navigated forward and backward.\n",
    "Circular Linked List − Last item contains link of the first element as next and the first element has a link to the \n",
    "last element as previous.\"\"\""
   ]
  },
  {
   "cell_type": "code",
   "execution_count": 3,
   "metadata": {},
   "outputs": [
    {
     "data": {
      "text/plain": [
       "'Linked lists are often used because of their efficient insertion and deletion. \\nThey can be used to implement stacks, queues, and other abstract data types.\\nDynamic memory allocation \\nMaintaining directory of names\\nPerforming arithmetic operations on long integers'"
      ]
     },
     "execution_count": 3,
     "metadata": {},
     "output_type": "execute_result"
    }
   ],
   "source": [
    "#What is a linked list's purpose?\n",
    "\"\"\"Linked lists are often used because of their efficient insertion and deletion. \n",
    "They can be used to implement stacks, queues, and other abstract data types.\n",
    "Dynamic memory allocation \n",
    "Maintaining directory of names\n",
    "Performing arithmetic operations on long integers\"\"\""
   ]
  },
  {
   "cell_type": "code",
   "execution_count": 5,
   "metadata": {},
   "outputs": [
    {
     "data": {
      "text/plain": [
       "'-Dynamic Data Structure:Linked List being a dynamic data structure can shrink and grow at the runtime by deallocating or allocating memory, \\nso there is no need for an initial size in linked list.\\n-No Memory Wastage:As the size of a linked list can grow or shrink at runtime, so there is no memory wastage. \\nOnly the required memory is allocated.\\nIn arrays, we have to first initialize it with a size which we may or may not fully use; hence wastage of memory may occur.\\n-Implementation:Some very helpful data structures like queues and stacks can be easily implemented using a Linked List.\\n-Insertion and Deletion Operation:In a Linked List, insertion and deletion operations are quite easy, as there is no need to shift every \\nelement after insertion or deletion. Only the address present in the pointers needs to be updated.'"
      ]
     },
     "execution_count": 5,
     "metadata": {},
     "output_type": "execute_result"
    }
   ],
   "source": [
    "#What are the advantages of linked lists over arrays?\n",
    "\"\"\"-Dynamic Data Structure:Linked List being a dynamic data structure can shrink and grow at the runtime by deallocating or allocating memory, \n",
    "so there is no need for an initial size in linked list.\n",
    "-No Memory Wastage:As the size of a linked list can grow or shrink at runtime, so there is no memory wastage. \n",
    "Only the required memory is allocated.\n",
    "In arrays, we have to first initialize it with a size which we may or may not fully use; hence wastage of memory may occur.\n",
    "-Implementation:Some very helpful data structures like queues and stacks can be easily implemented using a Linked List.\n",
    "-Insertion and Deletion Operation:In a Linked List, insertion and deletion operations are quite easy, as there is no need to shift every \n",
    "element after insertion or deletion. Only the address present in the pointers needs to be updated.\"\"\"\n"
   ]
  },
  {
   "cell_type": "code",
   "execution_count": 6,
   "metadata": {},
   "outputs": [
    {
     "data": {
      "text/plain": [
       "'-Circular lists are used in applications where the entire list is accessed one-by-one in a loop.\\n-It is also used by the Operating system to share time for different users, generally uses a Round-Robin time-sharing mechanism.\\n-Multiplayer games use a circular list to swap between players in a loop.\\n-The browser cache which allows you to hit the BACK button'"
      ]
     },
     "execution_count": 6,
     "metadata": {},
     "output_type": "execute_result"
    }
   ],
   "source": [
    "#What is the purpose of a circular linked list?\n",
    "\"\"\"-Circular lists are used in applications where the entire list is accessed one-by-one in a loop.\n",
    "-It is also used by the Operating system to share time for different users, generally uses a Round-Robin time-sharing mechanism.\n",
    "-Multiplayer games use a circular list to swap between players in a loop.\n",
    "-The browser cache which allows you to hit the BACK button\"\"\""
   ]
  },
  {
   "cell_type": "code",
   "execution_count": 7,
   "metadata": {},
   "outputs": [
    {
     "data": {
      "text/plain": [
       "'Circular Linked List is a variation of Linked list in which the first element points to the last element and the \\nlast element points to the first element. Both Singly Linked List and Doubly Linked List can be made into a circular \\nlinked list.\\n'"
      ]
     },
     "execution_count": 7,
     "metadata": {},
     "output_type": "execute_result"
    }
   ],
   "source": [
    "#How will you explain Circular Linked List?\n",
    "\"\"\"Circular Linked List is a variation of Linked list in which the first element points to the last element and the \n",
    "last element points to the first element. Both Singly Linked List and Doubly Linked List can be made into a circular \n",
    "linked list.\n",
    "\"\"\""
   ]
  },
  {
   "cell_type": "code",
   "execution_count": null,
   "metadata": {},
   "outputs": [],
   "source": []
  }
 ],
 "metadata": {
  "kernelspec": {
   "display_name": "Python 3",
   "language": "python",
   "name": "python3"
  },
  "language_info": {
   "codemirror_mode": {
    "name": "ipython",
    "version": 3
   },
   "file_extension": ".py",
   "mimetype": "text/x-python",
   "name": "python",
   "nbconvert_exporter": "python",
   "pygments_lexer": "ipython3",
   "version": "3.8.5"
  }
 },
 "nbformat": 4,
 "nbformat_minor": 4
}
