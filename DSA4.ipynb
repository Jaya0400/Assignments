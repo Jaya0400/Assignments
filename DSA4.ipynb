{
 "cells": [
  {
   "cell_type": "code",
   "execution_count": 1,
   "metadata": {},
   "outputs": [
    {
     "data": {
      "text/plain": [
       "' 1) Divide and conquer strategy is as follows:\\n– Divide the problem instance into two or more smaller\\ninstances of the same problem,\\n– Solve the smaller instances recursively, and assemble the\\nsolutions to form a solution of the original instance.\\n– The recursion stops when an instance is reached which is\\ntoo small to divide.\\n2) Divide and conquer algorithm consists of two parts:\\n– Divide : Divide the problem into a number of sub\\nproblems. The sub problems are solved recursively.\\n– Conquer : The solution to the original problem is then\\nformed from the solutions to the sub problems'"
      ]
     },
     "execution_count": 1,
     "metadata": {},
     "output_type": "execute_result"
    }
   ],
   "source": [
    "#What is the divide and conquer strategy?\n",
    "\"\"\" 1) Divide and conquer strategy is as follows:\n",
    "– Divide the problem instance into two or more smaller\n",
    "instances of the same problem,\n",
    "– Solve the smaller instances recursively, and assemble the\n",
    "solutions to form a solution of the original instance.\n",
    "– The recursion stops when an instance is reached which is\n",
    "too small to divide.\n",
    "2) Divide and conquer algorithm consists of two parts:\n",
    "– Divide : Divide the problem into a number of sub\n",
    "problems. The sub problems are solved recursively.\n",
    "– Conquer : The solution to the original problem is then\n",
    "formed from the solutions to the sub problems\"\"\""
   ]
  },
  {
   "cell_type": "code",
   "execution_count": 2,
   "metadata": {},
   "outputs": [
    {
     "data": {
      "text/plain": [
       "'Binary Search is a searching algorithm used in a sorted array by repeatedly dividing the search interval in half. \\nThe idea of binary search is to use the information that the array is sorted and reduce the time complexity to O(Log n). \\nThe basic steps to perform Binary Search are:\\n\\n--Begin with an interval covering the whole array. \\n--If the value of the search key is less than the item in the middle of the interval, narrow the interval to the lower half. \\n--Otherwise, narrow it to the upper half. \\n--Repeatedly check until the value is found or the interval is empty.\\n '"
      ]
     },
     "execution_count": 2,
     "metadata": {},
     "output_type": "execute_result"
    }
   ],
   "source": [
    "#What is binary search and how does it work?\n",
    "\"\"\"Binary Search is a searching algorithm used in a sorted array by repeatedly dividing the search interval in half. \n",
    "The idea of binary search is to use the information that the array is sorted and reduce the time complexity to O(Log n). \n",
    "The basic steps to perform Binary Search are:\n",
    "\n",
    "--Begin with an interval covering the whole array. \n",
    "--If the value of the search key is less than the item in the middle of the interval, narrow the interval to the lower half. \n",
    "--Otherwise, narrow it to the upper half. \n",
    "--Repeatedly check until the value is found or the interval is empty.\n",
    " \"\"\""
   ]
  },
  {
   "cell_type": "code",
   "execution_count": 4,
   "metadata": {},
   "outputs": [
    {
     "data": {
      "text/plain": [
       "'The key difference between the tuples and lists is that while the tuples are immutable objects the lists are mutable. \\nThis means that tuples cannot be changed while the lists can be modified.'"
      ]
     },
     "execution_count": 4,
     "metadata": {},
     "output_type": "execute_result"
    }
   ],
   "source": [
    "#Explain the distinction between a list and a tuple.\n",
    "\"\"\"The key difference between the tuples and lists is that while the tuples are immutable objects the lists are mutable. \n",
    "This means that tuples cannot be changed while the lists can be modified.\"\"\""
   ]
  },
  {
   "cell_type": "code",
   "execution_count": 5,
   "metadata": {},
   "outputs": [
    {
     "data": {
      "text/plain": [
       "'Memory management in Python involves a private heap containing all Python objects and data structures. \\nThe management of this private heap is ensured internally by the Python memory manager. The Python memory manager has \\ndifferent components which deal with various dynamic storage management aspects, like sharing, segmentation, \\npreallocation or caching.'"
      ]
     },
     "execution_count": 5,
     "metadata": {},
     "output_type": "execute_result"
    }
   ],
   "source": [
    "#Can you explain how Python manages memory?\n",
    "\"\"\"Memory management in Python involves a private heap containing all Python objects and data structures. \n",
    "The management of this private heap is ensured internally by the Python memory manager. The Python memory manager has \n",
    "different components which deal with various dynamic storage management aspects, like sharing, segmentation, \n",
    "preallocation or caching.\"\"\""
   ]
  },
  {
   "cell_type": "code",
   "execution_count": 6,
   "metadata": {},
   "outputs": [
    {
     "data": {
      "text/plain": [
       "'pickling is the process by which Python objects are converted to byte streams. \\nPickling is about serializing the object structure in python.\\nUnpickling is the process of retrieving original python objects from the stored string representation i.e from the pickle file. \\nIt is the process of converting a byte stream into the python object.'"
      ]
     },
     "execution_count": 6,
     "metadata": {},
     "output_type": "execute_result"
    }
   ],
   "source": [
    "#What is the difference between pickling and unpickling?\n",
    "\"\"\"pickling is the process by which Python objects are converted to byte streams. \n",
    "Pickling is about serializing the object structure in python.\n",
    "Unpickling is the process of retrieving original python objects from the stored string representation i.e from the pickle file. \n",
    "It is the process of converting a byte stream into the python object.\"\"\""
   ]
  },
  {
   "cell_type": "code",
   "execution_count": 7,
   "metadata": {},
   "outputs": [
    {
     "data": {
      "text/plain": [
       "'Linear Search\\nBinary Search\\nJump Search\\nInterpolation Search\\nExponential Search\\nSublist Search (Search a linked list in another list)\\nFibonacci Search\\nThe Ubiquitous Binary Search'"
      ]
     },
     "execution_count": 7,
     "metadata": {},
     "output_type": "execute_result"
    }
   ],
   "source": [
    "#What are the different types of search algorithms?\n",
    "\"\"\"Linear Search\n",
    "Binary Search\n",
    "Jump Search\n",
    "Interpolation Search\n",
    "Exponential Search\n",
    "Sublist Search (Search a linked list in another list)\n",
    "Fibonacci Search\n",
    "The Ubiquitous Binary Search\"\"\""
   ]
  },
  {
   "cell_type": "code",
   "execution_count": null,
   "metadata": {},
   "outputs": [],
   "source": []
  }
 ],
 "metadata": {
  "kernelspec": {
   "display_name": "Python 3",
   "language": "python",
   "name": "python3"
  },
  "language_info": {
   "codemirror_mode": {
    "name": "ipython",
    "version": 3
   },
   "file_extension": ".py",
   "mimetype": "text/x-python",
   "name": "python",
   "nbconvert_exporter": "python",
   "pygments_lexer": "ipython3",
   "version": "3.8.5"
  }
 },
 "nbformat": 4,
 "nbformat_minor": 4
}
