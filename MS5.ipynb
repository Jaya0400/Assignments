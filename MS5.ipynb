{
 "cells": [
  {
   "cell_type": "code",
   "execution_count": 1,
   "metadata": {},
   "outputs": [
    {
     "data": {
      "text/plain": [
       "'\\nJavascript,mysql,nosql,react,angular,sqlite,linux\\n'"
      ]
     },
     "execution_count": 1,
     "metadata": {},
     "output_type": "execute_result"
    }
   ],
   "source": [
    "#Apart from MERN Stack, what other stacks are you familiar with?\n",
    "\"\"\"\n",
    "Javascript,mysql,nosql,react,angular,sqlite,linux\n",
    "\"\"\""
   ]
  },
  {
   "cell_type": "code",
   "execution_count": 2,
   "metadata": {},
   "outputs": [
    {
     "data": {
      "text/plain": [
       "'\\nMiddleware literally means anything you put in the middle of one layer of the software and another. Express middleware are functions that execute during the lifecycle of a request to the Express server.\\nEach middleware has access to the HTTP request and response for each route it’s attached to.\\n'"
      ]
     },
     "execution_count": 2,
     "metadata": {},
     "output_type": "execute_result"
    }
   ],
   "source": [
    "#In ExpressJs, what do you mean by middleware?\n",
    "\"\"\"\n",
    "Middleware literally means anything you put in the middle of one layer of the software and another. Express middleware are functions that execute during the lifecycle of a request to the Express server.\n",
    "Each middleware has access to the HTTP request and response for each route it’s attached to.\n",
    "\"\"\""
   ]
  },
  {
   "cell_type": "code",
   "execution_count": 3,
   "metadata": {},
   "outputs": [
    {
     "data": {
      "text/plain": [
       "'\\nSharding refers to the breaking up of our data into chunks (shards). The benefit of sharding is that it allows us to scale \\nour database for large-scale systems.Sharding can be implemented at the application level, where the code will determine \\nwhich database shard is to be read or written to. Sharding can also come as a native feature of your database\\n'"
      ]
     },
     "execution_count": 3,
     "metadata": {},
     "output_type": "execute_result"
    }
   ],
   "source": [
    "#What exactly do you mean when you say \"sharding\"?\n",
    "\"\"\"\n",
    "Sharding refers to the breaking up of our data into chunks (shards). The benefit of sharding is that it allows us to scale \n",
    "our database for large-scale systems.Sharding can be implemented at the application level, where the code will determine \n",
    "which database shard is to be read or written to. Sharding can also come as a native feature of your database\n",
    "\"\"\""
   ]
  },
  {
   "cell_type": "code",
   "execution_count": 4,
   "metadata": {},
   "outputs": [
    {
     "data": {
      "text/plain": [
       "'\\n1)full stack web applications.\\n2)Workflow management\\n3)News aggregation \\n4)Todo apps and Calendars\\n'"
      ]
     },
     "execution_count": 4,
     "metadata": {},
     "output_type": "execute_result"
    }
   ],
   "source": [
    "#Describe a few examples Where can the MERN Stack be used?\n",
    "\"\"\"\n",
    "1)full stack web applications.\n",
    "2)Workflow management\n",
    "3)News aggregation \n",
    "4)Todo apps and Calendars\n",
    "\"\"\"\n"
   ]
  },
  {
   "cell_type": "code",
   "execution_count": 6,
   "metadata": {},
   "outputs": [
    {
     "data": {
      "text/plain": [
       "'\\nA thread is the path followed when executing a program. It is a sequence of nested executed \\nstatements or method calls that allow multiple activities within a single process.\\n'"
      ]
     },
     "execution_count": 6,
     "metadata": {},
     "output_type": "execute_result"
    }
   ],
   "source": [
    "#What do you mean when you say \"threads\"?\n",
    "\"\"\"\n",
    "A thread is the path followed when executing a program. It is a sequence of nested executed \n",
    "statements or method calls that allow multiple activities within a single process.\n",
    "\"\"\""
   ]
  },
  {
   "cell_type": "code",
   "execution_count": null,
   "metadata": {},
   "outputs": [],
   "source": []
  }
 ],
 "metadata": {
  "kernelspec": {
   "display_name": "Python 3",
   "language": "python",
   "name": "python3"
  },
  "language_info": {
   "codemirror_mode": {
    "name": "ipython",
    "version": 3
   },
   "file_extension": ".py",
   "mimetype": "text/x-python",
   "name": "python",
   "nbconvert_exporter": "python",
   "pygments_lexer": "ipython3",
   "version": "3.8.5"
  }
 },
 "nbformat": 4,
 "nbformat_minor": 4
}
