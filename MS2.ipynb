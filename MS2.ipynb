{
 "cells": [
  {
   "cell_type": "code",
   "execution_count": 1,
   "metadata": {},
   "outputs": [
    {
     "data": {
      "text/plain": [
       "'As the name suggests that  is the process of creating a copy of the same data set in more than one MongoDB server. \\nThis can be achieved by using a Replica Set.\\nreplica set is a group of MongoDB instances that maintain the same data set.\\n'"
      ]
     },
     "execution_count": 1,
     "metadata": {},
     "output_type": "execute_result"
    }
   ],
   "source": [
    "#What is MongoDB replication?\n",
    "\"\"\"As the name suggests that  is the process of creating a copy of the same data set in more than one MongoDB server. \n",
    "This can be achieved by using a Replica Set.\n",
    "replica set is a group of MongoDB instances that maintain the same data set.\n",
    "\"\"\""
   ]
  },
  {
   "cell_type": "code",
   "execution_count": 2,
   "metadata": {},
   "outputs": [
    {
     "data": {
      "text/plain": [
       "'\\n1)Faster Execution\\n2)License\\n3)Single Threaded\\n4)Has the ability to work with javascript\\n5)Event Driven\\n'"
      ]
     },
     "execution_count": 2,
     "metadata": {},
     "output_type": "execute_result"
    }
   ],
   "source": [
    "#What are some of NodeJs' features?\n",
    "\"\"\"\n",
    "1)Faster Execution\n",
    "2)License\n",
    "3)Single Threaded\n",
    "4)Has the ability to work with javascript\n",
    "5)Event Driven\n",
    "\"\"\""
   ]
  },
  {
   "cell_type": "code",
   "execution_count": 3,
   "metadata": {},
   "outputs": [
    {
     "data": {
      "text/plain": [
       "'\\n1) Key-value stores are the simplest NoSQL databases\\n2)Wide-column stores store columns of data together instead of rows and are optimized for queries over large datasets.\\n3)Document databases pair each key with a complex data structure known as a document.\\n4)Graph databases are used to store information about networks, such as social connections. \\n'"
      ]
     },
     "execution_count": 3,
     "metadata": {},
     "output_type": "execute_result"
    }
   ],
   "source": [
    "#What is MongoDB's database type?\n",
    "\"\"\"\n",
    "1) Key-value stores are the simplest NoSQL databases\n",
    "2)Wide-column stores store columns of data together instead of rows and are optimized for queries over large datasets.\n",
    "3)Document databases pair each key with a complex data structure known as a document.\n",
    "4)Graph databases are used to store information about networks, such as social connections. \n",
    "\"\"\""
   ]
  },
  {
   "cell_type": "code",
   "execution_count": 4,
   "metadata": {},
   "outputs": [
    {
     "data": {
      "text/plain": [
       "'\\n1)By providing callback function. Callback function gets called whenever corresponding event triggered.\\n2)By using a single-threaded event loop\\n'"
      ]
     },
     "execution_count": 4,
     "metadata": {},
     "output_type": "execute_result"
    }
   ],
   "source": [
    "#How does Node prevent code from being blocked?\n",
    "\"\"\"\n",
    "1)By providing callback function. Callback function gets called whenever corresponding event triggered.\n",
    "2)By using a single-threaded event loop\n",
    "\"\"\""
   ]
  },
  {
   "cell_type": "code",
   "execution_count": 5,
   "metadata": {},
   "outputs": [
    {
     "data": {
      "text/plain": [
       "'\\nPure Components helps to provide optimizations.\\nIt has shallow comparison on state change which means comparing scalar calues it will compare their values but\\nwhen comparing objects it will compare only references.\\n'"
      ]
     },
     "execution_count": 5,
     "metadata": {},
     "output_type": "execute_result"
    }
   ],
   "source": [
    "#What exactly do you mean when you say \"pure components\"?\n",
    "\"\"\"\n",
    "Pure Components helps to provide optimizations.\n",
    "It has shallow comparison on state change which means comparing scalar calues it will compare their values but\n",
    "when comparing objects it will compare only references.\n",
    "\"\"\""
   ]
  },
  {
   "cell_type": "code",
   "execution_count": null,
   "metadata": {},
   "outputs": [],
   "source": []
  }
 ],
 "metadata": {
  "kernelspec": {
   "display_name": "Python 3",
   "language": "python",
   "name": "python3"
  },
  "language_info": {
   "codemirror_mode": {
    "name": "ipython",
    "version": 3
   },
   "file_extension": ".py",
   "mimetype": "text/x-python",
   "name": "python",
   "nbconvert_exporter": "python",
   "pygments_lexer": "ipython3",
   "version": "3.8.5"
  }
 },
 "nbformat": 4,
 "nbformat_minor": 4
}
