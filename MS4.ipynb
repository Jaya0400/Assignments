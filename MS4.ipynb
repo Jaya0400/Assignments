{
 "cells": [
  {
   "cell_type": "code",
   "execution_count": 1,
   "metadata": {},
   "outputs": [
    {
     "data": {
      "text/plain": [
       "'\\nMERN stands for MongoDB, Express, React, Node.\\nMongoDB-document database\\nExpress-Node.js web framework\\nReact-a client-side JavaScript framework\\nNode-the premier JavaScript web server\\n\\nThe MERN architecture allows you to easily construct a 3-tier architecture frontend, backend, database entirely using JavaScript and JSON.\\n'"
      ]
     },
     "execution_count": 1,
     "metadata": {},
     "output_type": "execute_result"
    }
   ],
   "source": [
    "#What exactly is a MERN stack, and what does it imply?\n",
    "\"\"\"\n",
    "MERN stands for MongoDB, Express, React, Node.\n",
    "MongoDB-document database\n",
    "Express-Node.js web framework\n",
    "React-a client-side JavaScript framework\n",
    "Node-the premier JavaScript web server\n",
    "\n",
    "The MERN architecture allows you to easily construct a 3-tier architecture frontend, backend, database entirely using JavaScript and JSON.\n",
    "\"\"\""
   ]
  },
  {
   "cell_type": "code",
   "execution_count": 2,
   "metadata": {},
   "outputs": [
    {
     "data": {
      "text/plain": [
       "'\\nReact is a JavaScript library that creates user interfaces in a predictable and efficient way using declarative code.\\nReact basically maintains a tree for you. This tree is able to do efficient diff computations on the nodes.\\n'"
      ]
     },
     "execution_count": 2,
     "metadata": {},
     "output_type": "execute_result"
    }
   ],
   "source": [
    "#What exactly is REACT JS, and how does it work?\n",
    "\"\"\"\n",
    "React is a JavaScript library that creates user interfaces in a predictable and efficient way using declarative code.\n",
    "React basically maintains a tree for you. This tree is able to do efficient diff computations on the nodes.\n",
    "\"\"\""
   ]
  },
  {
   "cell_type": "code",
   "execution_count": 3,
   "metadata": {},
   "outputs": [
    {
     "data": {
      "text/plain": [
       "'\\n1) declarative\\n2) simple\\n3) component based\\n4) supports server side\\n5) extensive\\n6) fast \\n7) easy to learn \\nBecause of all this features it helps us.\\n'"
      ]
     },
     "execution_count": 3,
     "metadata": {},
     "output_type": "execute_result"
    }
   ],
   "source": [
    "#3. How does REACT JS help you?\n",
    "\"\"\"\n",
    "1) declarative\n",
    "2) simple\n",
    "3) component based\n",
    "4) supports server side\n",
    "5) extensive\n",
    "6) fast \n",
    "7) easy to learn \n",
    "Because of all this features it helps us.\n",
    "\"\"\""
   ]
  },
  {
   "cell_type": "code",
   "execution_count": 4,
   "metadata": {},
   "outputs": [
    {
     "data": {
      "text/plain": [
       "'\\n1)It does not require any SQL injection.\\n2)It is easily integrated with Big Data Hadoop\\n3)It provides high performance, availability, scalability.\\n4)It supports Geospatial efficiently.\\n5)It is a document oriented database and the data is stored in BSON documents.\\n6)Replication for better data availability and stability\\n'"
      ]
     },
     "execution_count": 4,
     "metadata": {},
     "output_type": "execute_result"
    }
   ],
   "source": [
    "#What are MongoDB's most important features?\n",
    "\"\"\"\n",
    "1)It does not require any SQL injection.\n",
    "2)It is easily integrated with Big Data Hadoop\n",
    "3)It provides high performance, availability, scalability.\n",
    "4)It supports Geospatial efficiently.\n",
    "5)It is a document oriented database and the data is stored in BSON documents.\n",
    "6)Replication for better data availability and stability\n",
    "\"\"\""
   ]
  },
  {
   "cell_type": "code",
   "execution_count": null,
   "metadata": {},
   "outputs": [],
   "source": [
    "#What is the difference between REACT JS and Angular JS?\n",
    "\"\"\"\n",
    "1)Angular is highly preferred as it uses real DOM and it is the best choice for building single-page apps \n",
    "where the content gets updated occasionally.\n",
    "React front-end library uses the virtual DOM. This helps boost the performance of any application regardless \n",
    "of its size and frequency of content updates. For instance, Instagram.\n",
    "\n",
    "2)Easy availability of ready-to-use solutions of Angular and Equally popular, though, has potential issues due to fewer collaborations and contributions\n",
    "for React\n",
    "\n",
    "3)Global community support is one of the biggest benefits which makes Angular the go-to framework for businesses where as\n",
    "for react has a much wider community support on GitLab & GitHub.\n",
    "\n",
    "4) In angular testing quick and easy due to its in-built functionalities and in react makes use of Redux to test \n",
    "applications & logs data changes quickly.\n",
    "\n",
    "5) Scalability of angular is Easy to scale owing to its design and a powerful Command Line Interface and for react \n",
    "with a virtual DOM & library, it can accommodate scalable development.\n",
    "\n",
    "\"\"\""
   ]
  }
 ],
 "metadata": {
  "kernelspec": {
   "display_name": "Python 3",
   "language": "python",
   "name": "python3"
  },
  "language_info": {
   "codemirror_mode": {
    "name": "ipython",
    "version": 3
   },
   "file_extension": ".py",
   "mimetype": "text/x-python",
   "name": "python",
   "nbconvert_exporter": "python",
   "pygments_lexer": "ipython3",
   "version": "3.8.5"
  }
 },
 "nbformat": 4,
 "nbformat_minor": 4
}
