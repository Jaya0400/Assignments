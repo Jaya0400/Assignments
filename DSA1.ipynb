{
 "cells": [
  {
   "cell_type": "code",
   "execution_count": 1,
   "metadata": {},
   "outputs": [
    {
     "data": {
      "text/plain": [
       "'List-List is the collection of multiple data type items which can contain numeric,character etc. List\\ncan be created with square brackets([]) and it is ordered collection so that we can do indexing as well as slicing.\\nArray-An array contains homogeneous elements i.e. belonging to the same data type. Array allows us to do addition, deletion, \\naccessing of elements. In Python, we have to use the array module to declare arrays. If the elements of \\nan array belong to different data types, an exception is thrown.'"
      ]
     },
     "execution_count": 1,
     "metadata": {},
     "output_type": "execute_result"
    }
   ],
   "source": [
    "#What is the distinction between a list and an array?\n",
    "'''List-List is the collection of multiple data type items which can contain numeric,character etc. List\n",
    "can be created with square brackets([]) and it is ordered collection so that we can do indexing as well as slicing.\n",
    "Array-An array contains homogeneous elements i.e. belonging to the same data type. Array allows us to do addition, deletion, \n",
    "accessing of elements. In Python, we have to use the array module to declare arrays. If the elements of \n",
    "an array belong to different data types, an exception is thrown.'''"
   ]
  },
  {
   "cell_type": "code",
   "execution_count": 2,
   "metadata": {},
   "outputs": [
    {
     "data": {
      "text/plain": [
       "'A binary tree contains of a number of nodes that contain the data to be stored, and the following structural characteristics :\\nEach node has up to two direct child nodes.\\nThere is exactly one node, called the root of the tree, that has no parent node. All other nodes have exactly one parent.\\nNodes in a binary tree are placed according to this rule: the value of a node is greater than or equal to the values of any \\ndescendant in its left branch, and less than the value of any descendant in its right branch.'"
      ]
     },
     "execution_count": 2,
     "metadata": {},
     "output_type": "execute_result"
    }
   ],
   "source": [
    "#What are the qualities of a binary tree?\n",
    "\"\"\"A binary tree contains of a number of nodes that contain the data to be stored, and the following structural characteristics :\n",
    "Each node has up to two direct child nodes.\n",
    "There is exactly one node, called the root of the tree, that has no parent node. All other nodes have exactly one parent.\n",
    "Nodes in a binary tree are placed according to this rule: the value of a node is greater than or equal to the values of any \n",
    "descendant in its left branch, and less than the value of any descendant in its right branch.\"\"\""
   ]
  },
  {
   "cell_type": "code",
   "execution_count": 3,
   "metadata": {},
   "outputs": [
    {
     "data": {
      "text/plain": [
       "'1. Store the in-order traversal of both the trees in two arrays, say, arr1 and arr2 respectively.\\n2. Merge arr1 and arr2 to form another array arr, that contains the elements of arr1 and arr2 in sorted form.\\n3. We now use this sorted array(arr) to build a balanced binary search tree, which is a merged version of the given trees.\\n4. The middle element of the array forms the root of the balanced BST and all the elements to the left of the middle element form the left sub-tree and all the elements to the right of the middle element form the right sub-tree.\\n5. Recursively do step 4 for the left subtree and attach it to the left of root.\\n6. Recursively do step 4 for the right subtree and attach it to the right of root.\\n7. Return root.'"
      ]
     },
     "execution_count": 3,
     "metadata": {},
     "output_type": "execute_result"
    }
   ],
   "source": [
    "#What is the best way to combine two balanced binary search trees?\n",
    "\"\"\"1. Store the in-order traversal of both the trees in two arrays, say, arr1 and arr2 respectively.\n",
    "2. Merge arr1 and arr2 to form another array arr, that contains the elements of arr1 and arr2 in sorted form.\n",
    "3. We now use this sorted array(arr) to build a balanced binary search tree, which is a merged version of the given trees.\n",
    "4. The middle element of the array forms the root of the balanced BST and all the elements to the left of the middle element form the left sub-tree and all the elements to the right of the middle element form the right sub-tree.\n",
    "5. Recursively do step 4 for the left subtree and attach it to the left of root.\n",
    "6. Recursively do step 4 for the right subtree and attach it to the right of root.\n",
    "7. Return root.\"\"\""
   ]
  },
  {
   "cell_type": "code",
   "execution_count": 4,
   "metadata": {},
   "outputs": [
    {
     "data": {
      "text/plain": [
       "'A heap is a complete binary tree, and the binary tree is a tree in which the node can have utmost two children. \\nThere are two types of the heap:\\nMin Heap\\nMax heap\\nMin Heap: The value of the parent node should be less than or equal to either of its children.\\nMax Heap: The value of the parent node is greater than or equal to its children.'"
      ]
     },
     "execution_count": 4,
     "metadata": {},
     "output_type": "execute_result"
    }
   ],
   "source": [
    "#How would you describe Heap in detail?\n",
    "\"\"\"A heap is a complete binary tree, and the binary tree is a tree in which the node can have utmost two children. \n",
    "There are two types of the heap:\n",
    "Min Heap\n",
    "Max heap\n",
    "Min Heap: The value of the parent node should be less than or equal to either of its children.\n",
    "Max Heap: The value of the parent node is greater than or equal to its children.\"\"\""
   ]
  },
  {
   "cell_type": "code",
   "execution_count": 5,
   "metadata": {},
   "outputs": [
    {
     "data": {
      "text/plain": [
       "''"
      ]
     },
     "execution_count": 5,
     "metadata": {},
     "output_type": "execute_result"
    }
   ],
   "source": [
    "\"\"\"In terms of data structure, what is a HashMap?\n",
    "Hash map is a widely used efficient data structure that used to store data which can be searched in constant time O(1). \n",
    "It is also referred as hash table, unordered map, dictionary, hash set and others. This data structure is \n",
    "implemented over an array that maps keys to values. Hence, hash map can be seen as a set of key value pairs. \n",
    "Each key is a number in the range of 0 to the array size – 1, generated by a hash function.\"\"\""
   ]
  },
  {
   "cell_type": "code",
   "execution_count": 6,
   "metadata": {},
   "outputs": [
    {
     "data": {
      "text/plain": [
       "'How do you explain the complexities of time and space?\\nTime Complexity: The time complexity of an algorithm quantifies the amount of time taken by an algorithm to run \\nas a function of the length of the input. \\nIncreasing order of complexity(Best to Worst):\\nConstant time complexity o(1)\\nLogarithmic time complexity o(log n)\\nLinear time complexity o(n)\\nQuadratic time complexity o(n**2)\\nCubic time complexity o(n**3)\\nPolynmial complexity o(n**c)\\nSpace complexity of an algorithm represents the amount of memory space needed the algorithm in its life cycle.'"
      ]
     },
     "execution_count": 6,
     "metadata": {},
     "output_type": "execute_result"
    }
   ],
   "source": [
    "\"\"\"How do you explain the complexities of time and space?\n",
    "Time Complexity: The time complexity of an algorithm quantifies the amount of time taken by an algorithm to run \n",
    "as a function of the length of the input. \n",
    "Increasing order of complexity(Best to Worst):\n",
    "Constant time complexity o(1)\n",
    "Logarithmic time complexity o(log n)\n",
    "Linear time complexity o(n)\n",
    "Quadratic time complexity o(n**2)\n",
    "Cubic time complexity o(n**3)\n",
    "Polynmial complexity o(n**c)\n",
    "Space complexity of an algorithm represents the amount of memory space needed the algorithm in its life cycle.\"\"\""
   ]
  },
  {
   "cell_type": "code",
   "execution_count": 7,
   "metadata": {},
   "outputs": [
    {
     "data": {
      "text/plain": [
       "'How do you recursively sort a stack?\\nis_empty(S)  : Tests whether stack is empty or not.\\npush(S)         : Adds new element to the stack.\\npop(S)         : Removes top element from the stack.\\ntop(S)         : Returns value of the top element. '"
      ]
     },
     "execution_count": 7,
     "metadata": {},
     "output_type": "execute_result"
    }
   ],
   "source": [
    "\"\"\"How do you recursively sort a stack?\n",
    "is_empty(S)  : Tests whether stack is empty or not.\n",
    "push(S)         : Adds new element to the stack.\n",
    "pop(S)         : Removes top element from the stack.\n",
    "top(S)         : Returns value of the top element. \"\"\""
   ]
  },
  {
   "cell_type": "code",
   "execution_count": null,
   "metadata": {},
   "outputs": [],
   "source": []
  }
 ],
 "metadata": {
  "kernelspec": {
   "display_name": "Python 3",
   "language": "python",
   "name": "python3"
  },
  "language_info": {
   "codemirror_mode": {
    "name": "ipython",
    "version": 3
   },
   "file_extension": ".py",
   "mimetype": "text/x-python",
   "name": "python",
   "nbconvert_exporter": "python",
   "pygments_lexer": "ipython3",
   "version": "3.8.5"
  }
 },
 "nbformat": 4,
 "nbformat_minor": 4
}
