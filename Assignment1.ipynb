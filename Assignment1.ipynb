{
 "cells": [
  {
   "cell_type": "code",
   "execution_count": null,
   "metadata": {},
   "outputs": [],
   "source": [
    "'''1. In the below elements which of them are values or an expression? eg:- values can be\n",
    "integer or string and expressions will be mathematical operators.\n",
    "* : expression\n",
    "'hello':value\n",
    "-87.8:value\n",
    "-:expression\n",
    "/:expression\n",
    "+:expression\n",
    "6:value\n",
    "\n",
    "'''"
   ]
  },
  {
   "cell_type": "code",
   "execution_count": 21,
   "metadata": {},
   "outputs": [
    {
     "ename": "TypeError",
     "evalue": "'str' object does not support item assignment",
     "output_type": "error",
     "traceback": [
      "\u001b[1;31m---------------------------------------------------------------------------\u001b[0m",
      "\u001b[1;31mTypeError\u001b[0m                                 Traceback (most recent call last)",
      "\u001b[1;32m<ipython-input-21-d8df4e50c56f>\u001b[0m in \u001b[0;36m<module>\u001b[1;34m\u001b[0m\n\u001b[0;32m     11\u001b[0m \u001b[1;31m#string\u001b[0m\u001b[1;33m\u001b[0m\u001b[1;33m\u001b[0m\u001b[1;33m\u001b[0m\u001b[0m\n\u001b[0;32m     12\u001b[0m \u001b[0mp\u001b[0m\u001b[1;33m=\u001b[0m\u001b[1;34m\"abc def\"\u001b[0m\u001b[1;33m\u001b[0m\u001b[1;33m\u001b[0m\u001b[0m\n\u001b[1;32m---> 13\u001b[1;33m \u001b[0mp\u001b[0m\u001b[1;33m[\u001b[0m\u001b[1;36m0\u001b[0m\u001b[1;33m]\u001b[0m\u001b[1;33m=\u001b[0m\u001b[1;34m\"j\"\u001b[0m\u001b[1;33m\u001b[0m\u001b[1;33m\u001b[0m\u001b[0m\n\u001b[0m",
      "\u001b[1;31mTypeError\u001b[0m: 'str' object does not support item assignment"
     ]
    }
   ],
   "source": [
    "#What is the difference between string and variable?\n",
    "'''String is one of the data type and it is immutable which means we can not update the value and string can contain alphanumeric \n",
    "values as well as special characters in their value.\n",
    "Variable can be used to store value and variable can hold single value & current value only. Variable name has some restrictions\n",
    "-variable name can not start with numeric but it is possible to have numbers in variable name except at first place\n",
    "-it can only contain (_) underscore special character.\n",
    "-variable name can start with alphabet.'''\n",
    "\n",
    "#variable\n",
    "a=5 #correct\n",
    "1a=7 #error\n",
    "#string\n",
    "p=\"abc def\"\n",
    "p[0]=\"j\"#Error-immutable"
   ]
  },
  {
   "cell_type": "code",
   "execution_count": 29,
   "metadata": {},
   "outputs": [
    {
     "data": {
      "text/plain": [
       "str"
      ]
     },
     "execution_count": 29,
     "metadata": {},
     "output_type": "execute_result"
    }
   ],
   "source": [
    "#Describe three different data types.\n",
    "#1) Int-know as Integer always stores numeric value which means without decimal\n",
    "a=5\n",
    "type(a)\n",
    "#2)float-stores numeric value with decimal point\n",
    "b=8.9\n",
    "type(b)\n",
    "#3)string-stores alpha numeric value with special characters.\n",
    "c=\"123 ineuron @ # %\"\n",
    "type(c)"
   ]
  },
  {
   "cell_type": "code",
   "execution_count": null,
   "metadata": {},
   "outputs": [],
   "source": [
    "#What is an expression made up of? What do all expressions do?\n",
    "'''An expression is a combination of operators and operands that is interpreted to produce some other value. \n",
    "In any programming language, an expression is evaluated as per the precedence of its operators. '''"
   ]
  },
  {
   "cell_type": "code",
   "execution_count": null,
   "metadata": {},
   "outputs": [],
   "source": [
    "'''This assignment statements, like spam = 10. What is the difference between an\n",
    "expression and a statement?'''\n",
    "'''Expression contains of values and operators and statement is like command that python interpreter will execute'''"
   ]
  },
  {
   "cell_type": "code",
   "execution_count": 32,
   "metadata": {},
   "outputs": [
    {
     "data": {
      "text/plain": [
       "23"
      ]
     },
     "execution_count": 32,
     "metadata": {},
     "output_type": "execute_result"
    }
   ],
   "source": [
    "'''After running the following code, what does the variable bacon contain?\n",
    "bacon = 22\n",
    "bacon + 1\n",
    "It will contain only 22 because we have made changes but not stored in bacon'''\n",
    "bacon=22\n",
    "bacon + 1"
   ]
  },
  {
   "cell_type": "code",
   "execution_count": 36,
   "metadata": {},
   "outputs": [
    {
     "data": {
      "text/plain": [
       "'spamspamspam'"
      ]
     },
     "execution_count": 36,
     "metadata": {},
     "output_type": "execute_result"
    }
   ],
   "source": [
    "'''What should the values of the following two terms be?\n",
    "'spam' + 'spamspam'\n",
    "'spam'* 3\n",
    "Output will be same spamspamspam\n",
    "because in first code string is trying to concatenate with another string and \n",
    "in other code multiplying by 3 with a string means that string will be printed 3 times'''\n",
    "\"spam\" + \"spamspam\"\n",
    "\"spam\" * 3"
   ]
  },
  {
   "cell_type": "code",
   "execution_count": 37,
   "metadata": {},
   "outputs": [
    {
     "data": {
      "text/plain": [
       "'variable name has some restrictions that variable name can not start\\nwith numeric so 100 is invalid and name can start with alphabet so eggs is allowed'"
      ]
     },
     "execution_count": 37,
     "metadata": {},
     "output_type": "execute_result"
    }
   ],
   "source": [
    "#Why is eggs a valid variable name while 100 is invalid?\n",
    "'''variable name has some restrictions that variable name can not start\n",
    "with numeric so 100 is invalid and name can start with alphabet so eggs is allowed'''"
   ]
  },
  {
   "cell_type": "code",
   "execution_count": 38,
   "metadata": {},
   "outputs": [
    {
     "data": {
      "text/plain": [
       "'What three functions can be used to get the integer, floating-point number, or string\\nversion of a value?\\ninteger-int()\\nfloating-float()\\nstring-str()'"
      ]
     },
     "execution_count": 38,
     "metadata": {},
     "output_type": "execute_result"
    }
   ],
   "source": [
    "'''What three functions can be used to get the integer, floating-point number, or string\n",
    "version of a value?\n",
    "integer-int()\n",
    "floating-float()\n",
    "string-str()'''"
   ]
  },
  {
   "cell_type": "code",
   "execution_count": 41,
   "metadata": {},
   "outputs": [
    {
     "data": {
      "text/plain": [
       "'i have eaten99burritos'"
      ]
     },
     "execution_count": 41,
     "metadata": {},
     "output_type": "execute_result"
    }
   ],
   "source": [
    "'''Why does this expression cause an error? How can you fix it?\n",
    "'I have eaten'+ 99 + 'burritos'   \n",
    "99 is the int and other values are in the type of string so we can not concatenate\n",
    "string and int so solution for this is typecasting which means convert 99 into string and then concatenate'''\n",
    "\"i have eaten\" + \"99\" + \"burritos\""
   ]
  },
  {
   "cell_type": "code",
   "execution_count": null,
   "metadata": {},
   "outputs": [],
   "source": []
  },
  {
   "cell_type": "code",
   "execution_count": null,
   "metadata": {},
   "outputs": [],
   "source": []
  }
 ],
 "metadata": {
  "kernelspec": {
   "display_name": "Python 3",
   "language": "python",
   "name": "python3"
  },
  "language_info": {
   "codemirror_mode": {
    "name": "ipython",
    "version": 3
   },
   "file_extension": ".py",
   "mimetype": "text/x-python",
   "name": "python",
   "nbconvert_exporter": "python",
   "pygments_lexer": "ipython3",
   "version": "3.8.5"
  }
 },
 "nbformat": 4,
 "nbformat_minor": 4
}
