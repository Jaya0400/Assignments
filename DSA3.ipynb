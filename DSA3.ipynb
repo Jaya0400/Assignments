{
 "cells": [
  {
   "cell_type": "code",
   "execution_count": 1,
   "metadata": {},
   "outputs": [
    {
     "data": {
      "text/plain": [
       "'\\n'"
      ]
     },
     "execution_count": 1,
     "metadata": {},
     "output_type": "execute_result"
    }
   ],
   "source": [
    "#Use examples to explain the sorting algorithms.\n",
    "\"\"\"\n",
    "Selection Sort:Selection sort is a simple sorting algorithm. This sorting algorithm is an in-place comparison-based algorithm \n",
    "in which the list is divided into two parts, the sorted part at the left end and the unsorted part at the right end. \n",
    "Initially, the sorted part is empty and the unsorted part is the entire list.The smallest element is selected from \n",
    "the unsorted array and swapped with the leftmost element, and that element becomes a part of the sorted array. \n",
    "This process continues moving unsorted array boundary by one element to the right.This algorithm is not suitable \n",
    "for large data sets as its average and worst case complexities are of Ο(n2), where n is the number of items.\n",
    "\n",
    "\n",
    "Bubble Sort:Bubble sort is a sorting algorithm that compares two adjacent elements and swaps them until they are not in the\n",
    "intended order.Just like the movement of air bubbles in the water that rise up to the surface, each element of the array \n",
    "move to the end in each iteration. Therefore, it is called a bubble sort.\n",
    "\n",
    "Insertion Sort: Insertion sort is a simple sorting algorithm that works similar to the way you sort playing cards \n",
    "in your hands. The array is virtually split into a sorted and an unsorted part. Values from the unsorted part are \n",
    "picked and placed at the correct position in the sorted part.\n",
    "\n",
    "Merge Sort: Like QuickSort, Merge Sort is a Divide and Conquer algorithm. It divides the input array into two halves, \n",
    "calls itself for the two halves, and then merges the two sorted halves. The merge() function is used for merging two halves. \n",
    "\n",
    "Quick Sort:Like Merge Sort, QuickSort is a Divide and Conquer algorithm. It picks an element as pivot and partitions the \n",
    "given array around the picked pivot. There are many different versions of quickSort that pick pivot in different ways. \n",
    "\n",
    "Heap Sort:Heap sort is a comparison-based sorting technique based on Binary Heap data structure. It is similar to selection \n",
    "sort where we first find the minimum element and place the minimum element at the beginning. We repeat the same process for\n",
    "the remaining elements.\n",
    "\n",
    "Counting Sort:is a sorting technique based on keys between a specific range. It works by counting the number of objects having \n",
    "distinct key values (kind of hashing). Then doing some arithmetic to calculate the position of each object in the output \n",
    "sequence.\n",
    "\n",
    "\"\"\""
   ]
  },
  {
   "cell_type": "code",
   "execution_count": 2,
   "metadata": {},
   "outputs": [
    {
     "data": {
      "text/plain": [
       "'We can define a stack as an abstract linear data type with a pre-defined capacity. \\nIts functionality depends on the pop and pushes function. The pop removes the elements from the stack, \\nwhereas push adds the elements to the stack. The key feature of Stack, which makes it different from other data structures, \\nis that it pursues the “Last In First Out”(LIFO) principle for insertion and deletion of the element\\n'"
      ]
     },
     "execution_count": 2,
     "metadata": {},
     "output_type": "execute_result"
    }
   ],
   "source": [
    "#What Are the Benefits of Stacks?\n",
    "\"\"\"We can define a stack as an abstract linear data type with a pre-defined capacity. \n",
    "Its functionality depends on the pop and pushes function. The pop removes the elements from the stack, \n",
    "whereas push adds the elements to the stack. The key feature of Stack, which makes it different from other data structures, \n",
    "is that it pursues the “Last In First Out”(LIFO) principle for insertion and deletion of the element\n",
    "\"\"\""
   ]
  },
  {
   "cell_type": "code",
   "execution_count": 3,
   "metadata": {},
   "outputs": [
    {
     "data": {
      "text/plain": [
       "'1)Stacks are based on the LIFO principle, i.e., the element inserted at the last, \\nis the first element to come out of the list.\\nQueues are based on the FIFO principle, i.e., the element inserted at the first, is the first \\nelement to come out of the list.\\n\\n2)Insertion and deletion in stacks takes place only from one end of the list called the top.\\nInsertion and deletion in queues takes place from the opposite ends of the list. The insertion takes place at the rear of\\nthe list and the deletion takes place from the front of the list.\\n\\n3)Insert operation is called push operation.\\nInsert operation is called enqueue operation.\\n\\n4)Delete operation is called pop operation.\\nDelete operation is called dequeue operation.\\n\\n5)Stack is used in solving problems works on recursion.\\nQueue is used in solving problems having sequential processing.\\n'"
      ]
     },
     "execution_count": 3,
     "metadata": {},
     "output_type": "execute_result"
    }
   ],
   "source": [
    "#What is the difference between a stack and a queue?\n",
    "\"\"\"1)Stacks are based on the LIFO principle, i.e., the element inserted at the last, \n",
    "is the first element to come out of the list.\n",
    "Queues are based on the FIFO principle, i.e., the element inserted at the first, is the first \n",
    "element to come out of the list.\n",
    "\n",
    "2)Insertion and deletion in stacks takes place only from one end of the list called the top.\n",
    "Insertion and deletion in queues takes place from the opposite ends of the list. The insertion takes place at the rear of\n",
    "the list and the deletion takes place from the front of the list.\n",
    "\n",
    "3)Insert operation is called push operation.\n",
    "Insert operation is called enqueue operation.\n",
    "\n",
    "4)Delete operation is called pop operation.\n",
    "Delete operation is called dequeue operation.\n",
    "\n",
    "5)Stack is used in solving problems works on recursion.\n",
    "Queue is used in solving problems having sequential processing.\n",
    "\"\"\""
   ]
  },
  {
   "cell_type": "code",
   "execution_count": 4,
   "metadata": {},
   "outputs": [
    {
     "data": {
      "text/plain": [
       "'\\nSimple Queue: In a simple queue, insertion takes place at the rear and removal occurs at the front. \\nIt strictly follows the FIFO (First in First out) rule.\\nCircular Queue: In a circular queue, the last element points to the first element making a circular link.\\nPriority Queue: A priority queue is a special type of queue in which each element is associated with a priority and is served according to its priority. If elements with the same priority occur, \\nthey are served according to their order in the queue.\\nDouble Ended Queue: In a double ended queue, insertion and removal of elements can be performed from either from the front or rear.\\nThus, it does not follow the FIFO (First In First Out) rule.\\n'"
      ]
     },
     "execution_count": 4,
     "metadata": {},
     "output_type": "execute_result"
    }
   ],
   "source": [
    "#What are the different forms of queues?\n",
    "\"\"\"\n",
    "Simple Queue: In a simple queue, insertion takes place at the rear and removal occurs at the front. \n",
    "It strictly follows the FIFO (First in First out) rule.\n",
    "Circular Queue: In a circular queue, the last element points to the first element making a circular link.\n",
    "Priority Queue: A priority queue is a special type of queue in which each element is associated with a priority and is served according to its priority. If elements with the same priority occur, \n",
    "they are served according to their order in the queue.\n",
    "Double Ended Queue: In a double ended queue, insertion and removal of elements can be performed from either from the front or rear.\n",
    "Thus, it does not follow the FIFO (First In First Out) rule.\n",
    "\"\"\""
   ]
  },
  {
   "cell_type": "code",
   "execution_count": 5,
   "metadata": {},
   "outputs": [
    {
     "data": {
      "text/plain": [
       "\"Use a queue when you want to get things out in the order that you put them in.\\nUse a stack when you want to get things out in the reverse order than you put them in.\\nUse a list when you want to get anything out, regardless of when you put them in (and when you don't want them to automatically be removed).\\n\""
      ]
     },
     "execution_count": 5,
     "metadata": {},
     "output_type": "execute_result"
    }
   ],
   "source": [
    "#Why should I use Stack or Queue data structures instead of Arrays or\n",
    "#Lists, and when should I use them?\n",
    "\"\"\"Use a queue when you want to get things out in the order that you put them in.\n",
    "Use a stack when you want to get things out in the reverse order than you put them in.\n",
    "Use a list when you want to get anything out, regardless of when you put them in (and when you don't want them to automatically be removed).\n",
    "\"\"\""
   ]
  },
  {
   "cell_type": "code",
   "execution_count": 6,
   "metadata": {},
   "outputs": [
    {
     "data": {
      "text/plain": [
       "'\"Recursion\" is technique of solving any problem by calling same function again and again until some breaking (base) condition where recursion stops and it starts calculating the solution from there on. For eg. calculating factorial of a given number\\nThus in recursion last function called needs to be completed first.\\nNow Stack is a LIFO data structure i.e. ( Last In First Out) and hence it is used to implement recursion.\\n'"
      ]
     },
     "execution_count": 6,
     "metadata": {},
     "output_type": "execute_result"
    }
   ],
   "source": [
    "#What is the significance of Stack being a recursive data structure?\n",
    "\"\"\"\"Recursion\" is technique of solving any problem by calling same function again and again until some breaking (base) condition where recursion stops and it starts calculating the solution from there on. For eg. calculating factorial of a given number\n",
    "Thus in recursion last function called needs to be completed first.\n",
    "Now Stack is a LIFO data structure i.e. ( Last In First Out) and hence it is used to implement recursion.\n",
    "\"\"\""
   ]
  },
  {
   "cell_type": "code",
   "execution_count": null,
   "metadata": {},
   "outputs": [],
   "source": []
  }
 ],
 "metadata": {
  "kernelspec": {
   "display_name": "Python 3",
   "language": "python",
   "name": "python3"
  },
  "language_info": {
   "codemirror_mode": {
    "name": "ipython",
    "version": 3
   },
   "file_extension": ".py",
   "mimetype": "text/x-python",
   "name": "python",
   "nbconvert_exporter": "python",
   "pygments_lexer": "ipython3",
   "version": "3.8.5"
  }
 },
 "nbformat": 4,
 "nbformat_minor": 4
}
