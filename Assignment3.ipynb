{
 "cells": [
  {
   "cell_type": "code",
   "execution_count": 1,
   "metadata": {},
   "outputs": [
    {
     "data": {
      "text/plain": [
       "\"if the code's logic is going to be used again and again so for that we have to make function\\nwhich will help us to use that logic wherever we want without writing that again.\\n\""
      ]
     },
     "execution_count": 1,
     "metadata": {},
     "output_type": "execute_result"
    }
   ],
   "source": [
    "#Why are functions advantageous to have in your programs?\n",
    "\"\"\"if the code's logic is going to be used again and again so for that we have to make function\n",
    "which will help us to use that logic wherever we want without writing that again.\n",
    "\"\"\""
   ]
  },
  {
   "cell_type": "code",
   "execution_count": 2,
   "metadata": {},
   "outputs": [
    {
     "data": {
      "text/plain": [
       "'when we specify the function at that time we are making function and when we call the function\\ncode inside the function will run at that time\\n'"
      ]
     },
     "execution_count": 2,
     "metadata": {},
     "output_type": "execute_result"
    }
   ],
   "source": [
    "#When does the code in a function run: when its specified or when its called?\n",
    "\"\"\"when we specify the function at that time we are making function and when we call the function\n",
    "code inside the function will run at that time\n",
    "\"\"\""
   ]
  },
  {
   "cell_type": "code",
   "execution_count": 3,
   "metadata": {},
   "outputs": [
    {
     "data": {
      "text/plain": [
       "'The keyword def is used to create function and it is inbuilt keyword\\n'"
      ]
     },
     "execution_count": 3,
     "metadata": {},
     "output_type": "execute_result"
    }
   ],
   "source": [
    "#What statement creates a function?\n",
    "\"\"\"The keyword def is used to create function and it is inbuilt keyword\n",
    "\"\"\""
   ]
  },
  {
   "cell_type": "code",
   "execution_count": 4,
   "metadata": {},
   "outputs": [
    {
     "data": {
      "text/plain": [
       "'for particular task any point in program is called as function call. So the difference between the function and function call is,\\nA function is process to achieve a particular result while function call is using this function to achive that task.\\n'"
      ]
     },
     "execution_count": 4,
     "metadata": {},
     "output_type": "execute_result"
    }
   ],
   "source": [
    "#What is the difference between a function and a function call?\n",
    "\"\"\"for particular task any point in program is called as function call. So the difference between the function and function call is,\n",
    "A function is process to achieve a particular result while function call is using this function to achive that task.\n",
    "\"\"\""
   ]
  },
  {
   "cell_type": "code",
   "execution_count": 5,
   "metadata": {},
   "outputs": [
    {
     "data": {
      "text/plain": [
       "'There is only one global scope untill the program terminates otherwise it will take values from previous run.\\nA variable created inside a function belongs to the local scope of that function, and can only be used inside that function.\\n\\n'"
      ]
     },
     "execution_count": 5,
     "metadata": {},
     "output_type": "execute_result"
    }
   ],
   "source": [
    "#How many global scopes are there in a Python program? How many local scopes?\n",
    "\"\"\"There is only one global scope untill the program terminates otherwise it will take values from previous run.\n",
    "A variable created inside a function belongs to the local scope of that function, and can only be used inside that function.\n",
    "\n",
    "\"\"\""
   ]
  },
  {
   "cell_type": "code",
   "execution_count": 6,
   "metadata": {},
   "outputs": [
    {
     "data": {
      "text/plain": [
       "'when the function call terminates then variables are destroyed.\\n'"
      ]
     },
     "execution_count": 6,
     "metadata": {},
     "output_type": "execute_result"
    }
   ],
   "source": [
    "#What happens to variables in a local scope when the function call returns?\n",
    "\"\"\"when the function call terminates then variables are destroyed.\n",
    "\"\"\""
   ]
  },
  {
   "cell_type": "code",
   "execution_count": 7,
   "metadata": {},
   "outputs": [
    {
     "data": {
      "text/plain": [
       "'Return values is used at the end of execution program and returns the result.\\nstatements after return will not be executed and yes it is possible to have return value in expression\\nand if return statement is without expression then it will return special value None.\\n'"
      ]
     },
     "execution_count": 7,
     "metadata": {},
     "output_type": "execute_result"
    }
   ],
   "source": [
    "#What is the concept of a return value? Is it possible to have a return value in an expression?\n",
    "\"\"\"Return values is used at the end of execution program and returns the result.\n",
    "statements after return will not be executed and yes it is possible to have return value in expression\n",
    "and if return statement is without expression then it will return special value None.\n",
    "\"\"\""
   ]
  },
  {
   "cell_type": "code",
   "execution_count": 8,
   "metadata": {},
   "outputs": [
    {
     "data": {
      "text/plain": [
       "'Function with no-return statement will return value as None\\n'"
      ]
     },
     "execution_count": 8,
     "metadata": {},
     "output_type": "execute_result"
    }
   ],
   "source": [
    "#If a function does not have a return statement, what is the return value of a call to that function?\n",
    "\"\"\"Function with no-return statement will return value as None\n",
    "\"\"\""
   ]
  },
  {
   "cell_type": "code",
   "execution_count": 9,
   "metadata": {},
   "outputs": [
    {
     "data": {
      "text/plain": [
       "'If you want to refer a global variable in a function then you can use keyword global to declare that variables\\nare global\\n'"
      ]
     },
     "execution_count": 9,
     "metadata": {},
     "output_type": "execute_result"
    }
   ],
   "source": [
    "#How do you make a function variable refer to the global variable?\n",
    "\"\"\"If you want to refer a global variable in a function then you can use keyword global to declare that variables\n",
    "are global\n",
    "\"\"\""
   ]
  },
  {
   "cell_type": "code",
   "execution_count": 11,
   "metadata": {},
   "outputs": [
    {
     "data": {
      "text/plain": [
       "'data type is NoneType only it refers to its own data type.\\n'"
      ]
     },
     "execution_count": 11,
     "metadata": {},
     "output_type": "execute_result"
    }
   ],
   "source": [
    "#What is the data type of None?\n",
    "\"\"\"data type is NoneType only it refers to its own data type.\n",
    "\"\"\""
   ]
  },
  {
   "cell_type": "code",
   "execution_count": 13,
   "metadata": {},
   "outputs": [
    {
     "data": {
      "text/plain": [
       "'It will give error that modulenotfound error because there is no package in python with\\nname areallyourpetsnamederic '"
      ]
     },
     "execution_count": 13,
     "metadata": {},
     "output_type": "execute_result"
    }
   ],
   "source": [
    "#What does the sentence import areallyourpetsnamederic do?\n",
    "\"\"\"It will give error that modulenotfound error because there is no package in python with\n",
    "name areallyourpetsnamederic \"\"\""
   ]
  },
  {
   "cell_type": "code",
   "execution_count": 14,
   "metadata": {},
   "outputs": [
    {
     "data": {
      "text/plain": [
       "'\\nimport spam\\nspam.bacon()'"
      ]
     },
     "execution_count": 14,
     "metadata": {},
     "output_type": "execute_result"
    }
   ],
   "source": [
    "#If you had a bacon() feature in a spam module, what would you call it after importing spam?\n",
    "\"\"\"\n",
    "import spam\n",
    "spam.bacon()\"\"\""
   ]
  },
  {
   "cell_type": "code",
   "execution_count": 15,
   "metadata": {},
   "outputs": [
    {
     "data": {
      "text/plain": [
       "'We can do Exception Handling which saves the program from crashing\\nTry and catch are used for Exception Handling.\\n'"
      ]
     },
     "execution_count": 15,
     "metadata": {},
     "output_type": "execute_result"
    }
   ],
   "source": [
    "#What can you do to save a programme from crashing if it encounters an error?\n",
    "\"\"\"We can do Exception Handling which saves the program from crashing\n",
    "Try and catch are used for Exception Handling.\n",
    "\"\"\""
   ]
  },
  {
   "cell_type": "code",
   "execution_count": 16,
   "metadata": {},
   "outputs": [
    {
     "data": {
      "text/plain": [
       "'\\nIn try clause, code will be written from which we can expect error\\nIn except clause, errors will be written which we can expect to occur in try clause'"
      ]
     },
     "execution_count": 16,
     "metadata": {},
     "output_type": "execute_result"
    }
   ],
   "source": [
    "#What is the purpose of the try clause? What is the purpose of the except clause?\n",
    "\"\"\"\n",
    "In try clause, code will be written from which we can expect error\n",
    "In except clause, errors will be written which we can expect to occur in try clause\"\"\""
   ]
  },
  {
   "cell_type": "code",
   "execution_count": null,
   "metadata": {},
   "outputs": [],
   "source": []
  }
 ],
 "metadata": {
  "kernelspec": {
   "display_name": "Python 3",
   "language": "python",
   "name": "python3"
  },
  "language_info": {
   "codemirror_mode": {
    "name": "ipython",
    "version": 3
   },
   "file_extension": ".py",
   "mimetype": "text/x-python",
   "name": "python",
   "nbconvert_exporter": "python",
   "pygments_lexer": "ipython3",
   "version": "3.8.5"
  }
 },
 "nbformat": 4,
 "nbformat_minor": 4
}
