{
 "cells": [
  {
   "cell_type": "code",
   "execution_count": 1,
   "metadata": {},
   "outputs": [
    {
     "data": {
      "text/plain": [
       "'\\n--Synchronizes the API documentation with the server and client at the same pace.\\n--Allows us to generate REST API documentation and interact with the REST API. The interaction with the REST API using the Swagger UI Framework gives clear insight into how the API responds to parameters.\\n--Provides responses in the format of JSON and XML.\\n--Implementations are available for various technologies, such as Scala, Java, and HTML5.\\n'"
      ]
     },
     "execution_count": 1,
     "metadata": {},
     "output_type": "execute_result"
    }
   ],
   "source": [
    "#What features does Swagger offer?\n",
    "\"\"\"\n",
    "--Synchronizes the API documentation with the server and client at the same pace.\n",
    "--Allows us to generate REST API documentation and interact with the REST API. The interaction with the REST API using the Swagger UI Framework gives clear insight into how the API responds to parameters.\n",
    "--Provides responses in the format of JSON and XML.\n",
    "--Implementations are available for various technologies, such as Scala, Java, and HTML5.\n",
    "\"\"\""
   ]
  },
  {
   "cell_type": "code",
   "execution_count": 2,
   "metadata": {},
   "outputs": [
    {
     "data": {
      "text/plain": [
       "'\\n1)Faster Execution\\n2)Low cost\\n3)Technology Independent\\n4)Improved test coverage\\n'"
      ]
     },
     "execution_count": 2,
     "metadata": {},
     "output_type": "execute_result"
    }
   ],
   "source": [
    "#How does API testing benefit you?\n",
    "\"\"\"\n",
    "1)Faster Execution\n",
    "2)Low cost\n",
    "3)Technology Independent\n",
    "4)Improved test coverage\n",
    "\"\"\""
   ]
  },
  {
   "cell_type": "code",
   "execution_count": 3,
   "metadata": {},
   "outputs": [
    {
     "data": {
      "text/plain": [
       "'\\n1)Go to Swagger Inspector -> Login)\\n2)Make a call to every endpoint, filling in your URI, method (GET/POST/etc), and any parameters, headers, and authentication details needed for the API.\\nYou’ll see your API requests fill into your history to the right of the request pane after you send requests.\\nIf you have more than 20 endpoints,create an API Definition for sets of API calls that are related. We regularly see API Definitions that are \\nthousands of lines long -what API calls are likely to be used together, and organize accordingly instead of creating a huge file.\\n\\n3)History Panel -> select check boxex you want to include ->click create API definition ->Swagger Inspector can create OpenAPI \\n3.0 and OpenAPI 2.0 definitions you can choose the desired version from the dropdown.\\n\\n4)click on gotoswaggerhub\\n\\n5)Name your API\\n'"
      ]
     },
     "execution_count": 3,
     "metadata": {},
     "output_type": "execute_result"
    }
   ],
   "source": [
    "#How do we include an API in Swagger?\n",
    "\"\"\"\n",
    "1)Go to Swagger Inspector -> Login)\n",
    "2)Make a call to every endpoint, filling in your URI, method (GET/POST/etc), and any parameters, headers, and authentication details needed for the API.\n",
    "You’ll see your API requests fill into your history to the right of the request pane after you send requests.\n",
    "If you have more than 20 endpoints,create an API Definition for sets of API calls that are related. We regularly see API Definitions that are \n",
    "thousands of lines long -what API calls are likely to be used together, and organize accordingly instead of creating a huge file.\n",
    "\n",
    "3)History Panel -> select check boxex you want to include ->click create API definition ->Swagger Inspector can create OpenAPI \n",
    "3.0 and OpenAPI 2.0 definitions you can choose the desired version from the dropdown.\n",
    "\n",
    "4)click on gotoswaggerhub\n",
    "\n",
    "5)Name your API\n",
    "\"\"\""
   ]
  },
  {
   "cell_type": "code",
   "execution_count": 4,
   "metadata": {},
   "outputs": [
    {
     "data": {
      "text/plain": [
       "'\\nhe simplest way to pass-in a header on Swagger UI is to implement the Apply method on the IOperationFilter interface.\\n'"
      ]
     },
     "execution_count": 4,
     "metadata": {},
     "output_type": "execute_result"
    }
   ],
   "source": [
    "#In Swagger UI, how can we submit custom headers with requests?\n",
    "\"\"\"\n",
    "he simplest way to pass-in a header on Swagger UI is to implement the Apply method on the IOperationFilter interface.\n",
    "\"\"\""
   ]
  },
  {
   "cell_type": "code",
   "execution_count": 5,
   "metadata": {},
   "outputs": [
    {
     "data": {
      "text/plain": [
       "\"\\nCopy your yml file into the editor and choose 'Generate Client > html2' and it will generate static html files in a zip file.\\n\""
      ]
     },
     "execution_count": 5,
     "metadata": {},
     "output_type": "execute_result"
    }
   ],
   "source": [
    "#How should we use Swagger to produce static docs?\n",
    "\"\"\"\n",
    "Copy your yml file into the editor and choose 'Generate Client > html2' and it will generate static html files in a zip file.\n",
    "\"\"\""
   ]
  },
  {
   "cell_type": "code",
   "execution_count": null,
   "metadata": {},
   "outputs": [],
   "source": []
  }
 ],
 "metadata": {
  "kernelspec": {
   "display_name": "Python 3",
   "language": "python",
   "name": "python3"
  },
  "language_info": {
   "codemirror_mode": {
    "name": "ipython",
    "version": 3
   },
   "file_extension": ".py",
   "mimetype": "text/x-python",
   "name": "python",
   "nbconvert_exporter": "python",
   "pygments_lexer": "ipython3",
   "version": "3.8.5"
  }
 },
 "nbformat": 4,
 "nbformat_minor": 4
}
