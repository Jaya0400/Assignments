{
 "cells": [
  {
   "cell_type": "code",
   "execution_count": 1,
   "metadata": {},
   "outputs": [
    {
     "data": {
      "text/plain": [
       "'Trees can be used to store data that has an inherent hierarchical structure. For example, an operating system may use a tree for directories, files and folders in its file management system.\\nThey are dynamic, which means that it is easy to add and delete nodes.\\nThey are easy to search and sort using standard traversal algorithms.\\nThey can be used to process the syntax of statements in natural and programming languages so are commonly used when compiling programming code.\\n'"
      ]
     },
     "execution_count": 1,
     "metadata": {},
     "output_type": "execute_result"
    }
   ],
   "source": [
    "#What exactly is an application tree?\n",
    "\"\"\"Trees can be used to store data that has an inherent hierarchical structure. For example, an operating system may use a tree for directories, files and folders in its file management system.\n",
    "They are dynamic, which means that it is easy to add and delete nodes.\n",
    "They are easy to search and sort using standard traversal algorithms.\n",
    "They can be used to process the syntax of statements in natural and programming languages so are commonly used when compiling programming code.\n",
    "\"\"\""
   ]
  },
  {
   "cell_type": "code",
   "execution_count": 2,
   "metadata": {},
   "outputs": [
    {
     "data": {
      "text/plain": [
       "'Pre-order traversal is one of the many ways to traverse a tree. It is mainly used when a tree needs to be duplicated.\\nVisit the node\\nRecursively explore the left subtree\\nRecursively explore the right subtree\\n\\n'"
      ]
     },
     "execution_count": 2,
     "metadata": {},
     "output_type": "execute_result"
    }
   ],
   "source": [
    "#What is pre-order tree traversal and how does it work?\n",
    "\"\"\"Pre-order traversal is one of the many ways to traverse a tree. It is mainly used when a tree needs to be duplicated.\n",
    "Visit the node\n",
    "Recursively explore the left subtree\n",
    "Recursively explore the right subtree\n",
    "\n",
    "\"\"\""
   ]
  },
  {
   "cell_type": "code",
   "execution_count": 3,
   "metadata": {},
   "outputs": [
    {
     "data": {
      "text/plain": [
       "'\\nThe Tower of Hanoi, is a mathematical problem which consists of three rods and multiple disks. \\nInitially, all the disks are placed on one rod, one over the other in ascending order of size similar to a cone-shaped tower.\\nThe objective of this problem is to move the stack of disks from the initial rod to another rod, following these rules:\\nA disk cannot be placed on top of a smaller disk\\nNo disk can be placed on top of the smaller disk.\\n'"
      ]
     },
     "execution_count": 3,
     "metadata": {},
     "output_type": "execute_result"
    }
   ],
   "source": [
    "#What is the problem with the Hanoi Tower?\n",
    "\"\"\"\n",
    "The Tower of Hanoi, is a mathematical problem which consists of three rods and multiple disks. \n",
    "Initially, all the disks are placed on one rod, one over the other in ascending order of size similar to a cone-shaped tower.\n",
    "The objective of this problem is to move the stack of disks from the initial rod to another rod, following these rules:\n",
    "A disk cannot be placed on top of a smaller disk\n",
    "No disk can be placed on top of the smaller disk.\n",
    "\"\"\""
   ]
  },
  {
   "cell_type": "code",
   "execution_count": 4,
   "metadata": {},
   "outputs": [
    {
     "data": {
      "text/plain": [
       "'The main difference between linear and non linear data structures is that linear data structures \\narrange data in a sequential manner while nonlinear data structures arrange data in a hierarchical \\nmanner, creating a relationship among the data elements.\\n'"
      ]
     },
     "execution_count": 4,
     "metadata": {},
     "output_type": "execute_result"
    }
   ],
   "source": [
    "#Can you explain the distinction between linear and nonlinear data\n",
    "#structures?\n",
    "\"\"\"The main difference between linear and non linear data structures is that linear data structures \n",
    "arrange data in a sequential manner while nonlinear data structures arrange data in a hierarchical \n",
    "manner, creating a relationship among the data elements.\n",
    "\"\"\""
   ]
  },
  {
   "cell_type": "code",
   "execution_count": 5,
   "metadata": {},
   "outputs": [
    {
     "data": {
      "text/plain": [
       "'An array is a data structure that holds fix number of elements and these elements should be of the same data type\\nThe list is the most important data type in python language. In Python language, the list is written as the list of commas separated values inside the square bracket. \\nThe most important advantage of the list is the elements inside the list is not compulsorily be of the same data type along with negative indexing. \\n'"
      ]
     },
     "execution_count": 5,
     "metadata": {},
     "output_type": "execute_result"
    }
   ],
   "source": [
    "#What is the distinction between a list and an array?\n",
    "\"\"\"An array is a data structure that holds fix number of elements and these elements should be of the same data type\n",
    "The list is the most important data type in python language. In Python language, the list is written as the list of commas separated values inside the square bracket. \n",
    "The most important advantage of the list is the elements inside the list is not compulsorily be of the same data type along with negative indexing. \n",
    "\"\"\""
   ]
  },
  {
   "cell_type": "code",
   "execution_count": null,
   "metadata": {},
   "outputs": [],
   "source": []
  }
 ],
 "metadata": {
  "kernelspec": {
   "display_name": "Python 3",
   "language": "python",
   "name": "python3"
  },
  "language_info": {
   "codemirror_mode": {
    "name": "ipython",
    "version": 3
   },
   "file_extension": ".py",
   "mimetype": "text/x-python",
   "name": "python",
   "nbconvert_exporter": "python",
   "pygments_lexer": "ipython3",
   "version": "3.8.5"
  }
 },
 "nbformat": 4,
 "nbformat_minor": 4
}
